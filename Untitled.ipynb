{
 "cells": [
  {
   "cell_type": "code",
   "execution_count": 4,
   "metadata": {},
   "outputs": [
    {
     "name": "stdout",
     "output_type": "stream",
     "text": [
      "Myname is Chris!!\n"
     ]
    }
   ],
   "source": [
    "def introduceEnglishName(**kwargs):\n",
    "    for key, value in kwargs.items():\n",
    "        if 'ant' in kwargs.keys():\n",
    "            print(\"주인님 오셨군요.\")\n",
    "        else: print(\"{0} is {1}\".format(key, value))\n",
    "            \n",
    "introduceEnglishName(Myname='Chris!!')\n",
    "introduceEnglishName(ant='Chris!!')"
   ]
  }
 ],
 "metadata": {
  "kernelspec": {
   "display_name": "Python 3",
   "language": "python",
   "name": "python3"
  },
  "language_info": {
   "codemirror_mode": {
    "name": "ipython",
    "version": 3
   },
   "file_extension": ".py",
   "mimetype": "text/x-python",
   "name": "python",
   "nbconvert_exporter": "python",
   "pygments_lexer": "ipython3",
   "version": "3.6.5"
  }
 },
 "nbformat": 4,
 "nbformat_minor": 2
}
